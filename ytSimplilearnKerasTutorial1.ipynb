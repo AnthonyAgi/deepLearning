{
 "cells": [
  {
   "cell_type": "markdown",
   "id": "e48424fc",
   "metadata": {},
   "source": [
    "                                Simplilearn Youtube video\n",
    "Keras Tutorial For Beginners | Keras For Deep Learning | Deep Learning Tutorial | Simplilearn\n",
    "\n",
    "https://www.youtube.com/watch?v=pWp3PhYI-OU&t=2600s"
   ]
  },
  {
   "cell_type": "code",
   "execution_count": 1,
   "id": "e1e7b64a",
   "metadata": {},
   "outputs": [],
   "source": [
    "import numpy as np\n",
    "from random import randint\n",
    "from sklearn.utils import shuffle\n",
    "from sklearn.preprocessing import MinMaxScaler"
   ]
  },
  {
   "cell_type": "code",
   "execution_count": 2,
   "id": "d4f8329b",
   "metadata": {},
   "outputs": [],
   "source": [
    "train_labels = []\n",
    "train_samples = []"
   ]
  },
  {
   "cell_type": "markdown",
   "id": "3775c12e",
   "metadata": {},
   "source": [
    "Example Data\n",
    "\n",
    "Experimental drug was tested on 2100 individuals between 13 to 100 years of age. Half the participants are under 65. Around 95% of participants under 65 experienced no side effects. 95% of a participants over 65 experienced side effects."
   ]
  },
  {
   "cell_type": "code",
   "execution_count": 3,
   "id": "a837e4a1",
   "metadata": {},
   "outputs": [],
   "source": [
    "for i in range(50):\n",
    "    # The ~5% of younger individuals who did experience side effects\n",
    "    random_younger = randint(13,64)\n",
    "    train_samples.append(random_younger)\n",
    "    train_labels.append(1)\n",
    "    \n",
    "    # The ~5% of older individuals who did not experience side effects\n",
    "    random_older = randint(65,100)\n",
    "    train_samples.append(random_older)\n",
    "    train_labels.append(0)\n",
    "    \n",
    "for i in range(1000):\n",
    "    # The ~95% of younger individuals who did not experience side effects\n",
    "    random_younger = randint(13,64)\n",
    "    train_samples.append(random_younger)\n",
    "    train_labels.append(0)\n",
    "    \n",
    "    # The ~95% of older individuals who did experience side effects\n",
    "    random_older = randint(65,100)\n",
    "    train_samples.append(random_older)\n",
    "    train_labels.append(1)\n"
   ]
  },
  {
   "cell_type": "code",
   "execution_count": 4,
   "id": "e4d74a97",
   "metadata": {},
   "outputs": [
    {
     "name": "stdout",
     "output_type": "stream",
     "text": [
      "2100 [62, 92, 53, 85, 59]\n",
      "2100 [1, 0, 1, 0, 1]\n"
     ]
    }
   ],
   "source": [
    "print(len(train_samples), train_samples[:5])\n",
    "print(len(train_labels), train_labels[:5])"
   ]
  },
  {
   "cell_type": "code",
   "execution_count": 5,
   "id": "db4d5d50",
   "metadata": {},
   "outputs": [],
   "source": [
    "train_labels = np.array(train_labels)\n",
    "train_samples = np.array(train_samples)\n",
    "train_labels, train_samples = shuffle(train_labels, train_samples)"
   ]
  },
  {
   "cell_type": "code",
   "execution_count": 6,
   "id": "c5eca708",
   "metadata": {},
   "outputs": [
    {
     "data": {
      "text/plain": [
       "array([[0.77011494],\n",
       "       [0.24137931],\n",
       "       [0.13793103],\n",
       "       [0.7816092 ],\n",
       "       [0.7816092 ]])"
      ]
     },
     "execution_count": 6,
     "metadata": {},
     "output_type": "execute_result"
    }
   ],
   "source": [
    "scaler = MinMaxScaler(feature_range=(0,1))\n",
    "scaled_train_samples = scaler.fit_transform(train_samples.reshape(-1,1))\n",
    "scaled_train_samples[:5]"
   ]
  },
  {
   "cell_type": "markdown",
   "id": "5b5bde3d",
   "metadata": {},
   "source": [
    "Creating an Artificial Neural Network"
   ]
  },
  {
   "cell_type": "code",
   "execution_count": 7,
   "id": "999b71ab",
   "metadata": {},
   "outputs": [],
   "source": [
    "import tensorflow as tf\n",
    "from tensorflow import keras\n",
    "from tensorflow.keras.models import Sequential\n",
    "from tensorflow.keras.layers import Activation, Dense\n",
    "from tensorflow.keras.optimizers import Adam\n",
    "from tensorflow.keras.metrics import categorical_crossentropy"
   ]
  },
  {
   "cell_type": "code",
   "execution_count": 8,
   "id": "4db6018b",
   "metadata": {},
   "outputs": [],
   "source": [
    "model = Sequential([Dense(units=16, input_shape=(1,), activation='relu'),\n",
    "                    Dense(units=32, activation='relu'),\n",
    "                    Dense(units=2, activation='softmax'),])"
   ]
  },
  {
   "cell_type": "code",
   "execution_count": 9,
   "id": "65786db4",
   "metadata": {},
   "outputs": [
    {
     "name": "stdout",
     "output_type": "stream",
     "text": [
      "Model: \"sequential\"\n",
      "_________________________________________________________________\n",
      "Layer (type)                 Output Shape              Param #   \n",
      "=================================================================\n",
      "dense (Dense)                (None, 16)                32        \n",
      "_________________________________________________________________\n",
      "dense_1 (Dense)              (None, 32)                544       \n",
      "_________________________________________________________________\n",
      "dense_2 (Dense)              (None, 2)                 66        \n",
      "=================================================================\n",
      "Total params: 642\n",
      "Trainable params: 642\n",
      "Non-trainable params: 0\n",
      "_________________________________________________________________\n"
     ]
    }
   ],
   "source": [
    "model.summary()"
   ]
  },
  {
   "cell_type": "markdown",
   "id": "e104604d",
   "metadata": {},
   "source": [
    "Training the model"
   ]
  },
  {
   "cell_type": "code",
   "execution_count": 10,
   "id": "babf08cf",
   "metadata": {},
   "outputs": [],
   "source": [
    "# the key here is learning_rate. Generally 0.0001 \n",
    "\n",
    "model.compile(optimizer=Adam(learning_rate=0.0001), loss='sparse_categorical_crossentropy', metrics=['accuracy'])"
   ]
  },
  {
   "cell_type": "code",
   "execution_count": 11,
   "id": "4cd263eb",
   "metadata": {},
   "outputs": [
    {
     "name": "stdout",
     "output_type": "stream",
     "text": [
      "Train on 1890 samples, validate on 210 samples\n",
      "Epoch 1/30\n",
      "1890/1890 - 1s - loss: 0.7079 - accuracy: 0.4926 - val_loss: 0.6984 - val_accuracy: 0.2333\n",
      "Epoch 2/30\n",
      "1890/1890 - 0s - loss: 0.6857 - accuracy: 0.5995 - val_loss: 0.6665 - val_accuracy: 0.7810\n",
      "Epoch 3/30\n",
      "1890/1890 - 0s - loss: 0.6608 - accuracy: 0.6746 - val_loss: 0.6362 - val_accuracy: 0.7952\n",
      "Epoch 4/30\n",
      "1890/1890 - 0s - loss: 0.6348 - accuracy: 0.7328 - val_loss: 0.6042 - val_accuracy: 0.8095\n",
      "Epoch 5/30\n",
      "1890/1890 - 0s - loss: 0.6086 - accuracy: 0.7619 - val_loss: 0.5760 - val_accuracy: 0.8286\n",
      "Epoch 6/30\n",
      "1890/1890 - 0s - loss: 0.5835 - accuracy: 0.7862 - val_loss: 0.5503 - val_accuracy: 0.8571\n",
      "Epoch 7/30\n",
      "1890/1890 - 0s - loss: 0.5593 - accuracy: 0.8138 - val_loss: 0.5241 - val_accuracy: 0.8619\n",
      "Epoch 8/30\n",
      "1890/1890 - 0s - loss: 0.5344 - accuracy: 0.8302 - val_loss: 0.4980 - val_accuracy: 0.8762\n",
      "Epoch 9/30\n",
      "1890/1890 - 0s - loss: 0.5089 - accuracy: 0.8519 - val_loss: 0.4725 - val_accuracy: 0.8905\n",
      "Epoch 10/30\n",
      "1890/1890 - 0s - loss: 0.4838 - accuracy: 0.8619 - val_loss: 0.4490 - val_accuracy: 0.8952\n",
      "Epoch 11/30\n",
      "1890/1890 - 0s - loss: 0.4596 - accuracy: 0.8772 - val_loss: 0.4238 - val_accuracy: 0.8952\n",
      "Epoch 12/30\n",
      "1890/1890 - 0s - loss: 0.4370 - accuracy: 0.8778 - val_loss: 0.4042 - val_accuracy: 0.9048\n",
      "Epoch 13/30\n",
      "1890/1890 - 0s - loss: 0.4165 - accuracy: 0.8868 - val_loss: 0.3846 - val_accuracy: 0.9048\n",
      "Epoch 14/30\n",
      "1890/1890 - 0s - loss: 0.3980 - accuracy: 0.8947 - val_loss: 0.3689 - val_accuracy: 0.9048\n",
      "Epoch 15/30\n",
      "1890/1890 - 0s - loss: 0.3815 - accuracy: 0.9021 - val_loss: 0.3540 - val_accuracy: 0.9048\n",
      "Epoch 16/30\n",
      "1890/1890 - 0s - loss: 0.3663 - accuracy: 0.9138 - val_loss: 0.3400 - val_accuracy: 0.9048\n",
      "Epoch 17/30\n",
      "1890/1890 - 0s - loss: 0.3524 - accuracy: 0.9132 - val_loss: 0.3283 - val_accuracy: 0.9048\n",
      "Epoch 18/30\n",
      "1890/1890 - 0s - loss: 0.3410 - accuracy: 0.9169 - val_loss: 0.3194 - val_accuracy: 0.9143\n",
      "Epoch 19/30\n",
      "1890/1890 - 0s - loss: 0.3312 - accuracy: 0.9238 - val_loss: 0.3099 - val_accuracy: 0.9143\n",
      "Epoch 20/30\n",
      "1890/1890 - 0s - loss: 0.3228 - accuracy: 0.9238 - val_loss: 0.3029 - val_accuracy: 0.9143\n",
      "Epoch 21/30\n",
      "1890/1890 - 0s - loss: 0.3158 - accuracy: 0.9238 - val_loss: 0.2976 - val_accuracy: 0.9143\n",
      "Epoch 22/30\n",
      "1890/1890 - 0s - loss: 0.3096 - accuracy: 0.9238 - val_loss: 0.2936 - val_accuracy: 0.9238\n",
      "Epoch 23/30\n",
      "1890/1890 - 0s - loss: 0.3044 - accuracy: 0.9370 - val_loss: 0.2895 - val_accuracy: 0.9238\n",
      "Epoch 24/30\n",
      "1890/1890 - 0s - loss: 0.2997 - accuracy: 0.9370 - val_loss: 0.2848 - val_accuracy: 0.9238\n",
      "Epoch 25/30\n",
      "1890/1890 - 0s - loss: 0.2957 - accuracy: 0.9328 - val_loss: 0.2818 - val_accuracy: 0.9238\n",
      "Epoch 26/30\n",
      "1890/1890 - 0s - loss: 0.2922 - accuracy: 0.9370 - val_loss: 0.2791 - val_accuracy: 0.9238\n",
      "Epoch 27/30\n",
      "1890/1890 - 0s - loss: 0.2891 - accuracy: 0.9376 - val_loss: 0.2760 - val_accuracy: 0.9238\n",
      "Epoch 28/30\n",
      "1890/1890 - 0s - loss: 0.2863 - accuracy: 0.9370 - val_loss: 0.2752 - val_accuracy: 0.9238\n",
      "Epoch 29/30\n",
      "1890/1890 - 0s - loss: 0.2839 - accuracy: 0.9423 - val_loss: 0.2734 - val_accuracy: 0.9238\n",
      "Epoch 30/30\n",
      "1890/1890 - 0s - loss: 0.2817 - accuracy: 0.9370 - val_loss: 0.2713 - val_accuracy: 0.9238\n"
     ]
    },
    {
     "data": {
      "text/plain": [
       "<tensorflow.python.keras.callbacks.History at 0x2709391a438>"
      ]
     },
     "execution_count": 11,
     "metadata": {},
     "output_type": "execute_result"
    }
   ],
   "source": [
    "# can play around with the batch_size to see what fits the model best. In this case, we're using 10\n",
    "# can play around with the epochs to see what fits the model best. In this case, we're using 30\n",
    "\n",
    "model.fit(x=scaled_train_samples, y=train_labels, validation_split=0.1, batch_size=10, shuffle=True, epochs=30, verbose=2)"
   ]
  },
  {
   "cell_type": "markdown",
   "id": "fd3209af",
   "metadata": {},
   "source": [
    "Building a test set and predicting"
   ]
  },
  {
   "cell_type": "code",
   "execution_count": 12,
   "id": "2f7d384e",
   "metadata": {},
   "outputs": [],
   "source": [
    "test_labels = []\n",
    "test_samples = []"
   ]
  },
  {
   "cell_type": "code",
   "execution_count": 13,
   "id": "e3d7e8d1",
   "metadata": {},
   "outputs": [
    {
     "data": {
      "text/plain": [
       "array([[0.73563218],\n",
       "       [0.83908046],\n",
       "       [0.54022989],\n",
       "       [0.02298851],\n",
       "       [0.45977011]])"
      ]
     },
     "execution_count": 13,
     "metadata": {},
     "output_type": "execute_result"
    }
   ],
   "source": [
    "for i in range(10):\n",
    "    # The ~5% of younger individuals who did experience side effects\n",
    "    random_younger = randint(13,64)\n",
    "    test_samples.append(random_younger)\n",
    "    test_labels.append(1)\n",
    "    \n",
    "    # The ~5% of older individuals who did not experience side effects\n",
    "    random_older = randint(65,100)\n",
    "    test_samples.append(random_older)\n",
    "    test_labels.append(0)\n",
    "    \n",
    "for i in range(200):\n",
    "    # The ~95% of younger individuals who did not experience side effects\n",
    "    random_younger = randint(13,64)\n",
    "    test_samples.append(random_younger)\n",
    "    test_labels.append(0)\n",
    "    \n",
    "    # The ~95% of older individuals who did experience side effects\n",
    "    random_older = randint(65,100)\n",
    "    test_samples.append(random_older)\n",
    "    test_labels.append(1)\n",
    "    \n",
    "test_labels = np.array(test_labels)\n",
    "test_samples = np.array(test_samples)\n",
    "test_labels, test_samples = shuffle(test_labels, test_samples)\n",
    "\n",
    "scaled_test_samples = scaler.transform(test_samples.reshape(-1,1))\n",
    "scaled_test_samples[:5]"
   ]
  },
  {
   "cell_type": "code",
   "execution_count": 14,
   "id": "c07169ce",
   "metadata": {},
   "outputs": [],
   "source": [
    "predictions = model.predict(x=scaled_test_samples,\n",
    "                            batch_size=10,\n",
    "                            verbose=0)"
   ]
  },
  {
   "cell_type": "code",
   "execution_count": 15,
   "id": "4c1241b5",
   "metadata": {},
   "outputs": [
    {
     "name": "stdout",
     "output_type": "stream",
     "text": [
      "[[0.16346201 0.83653796]\n",
      " [0.07139731 0.92860264]\n",
      " [0.5784386  0.4215614 ]\n",
      " [0.964636   0.03536397]\n",
      " [0.7537884  0.24621166]]\n"
     ]
    }
   ],
   "source": [
    "print(predictions[:5])"
   ]
  },
  {
   "cell_type": "code",
   "execution_count": 16,
   "id": "90768780",
   "metadata": {},
   "outputs": [
    {
     "data": {
      "text/plain": [
       "array([1, 1, 0, 0, 0], dtype=int64)"
      ]
     },
     "execution_count": 16,
     "metadata": {},
     "output_type": "execute_result"
    }
   ],
   "source": [
    "# rounding up predictions to get 0 or 1\n",
    "rounded_predictions = np.argmax(predictions, axis=-1)\n",
    "rounded_predictions[:5]"
   ]
  },
  {
   "cell_type": "markdown",
   "id": "73c2b697",
   "metadata": {},
   "source": [
    "<h2> Confusion Matrices for accuracy check <h2>"
   ]
  },
  {
   "cell_type": "code",
   "execution_count": 17,
   "id": "fa45dbbe",
   "metadata": {},
   "outputs": [],
   "source": [
    "# above line done in markdown like so: <h2> Confusion Matrices for accuracy check <h2>"
   ]
  },
  {
   "cell_type": "code",
   "execution_count": 18,
   "id": "ca7306cb",
   "metadata": {},
   "outputs": [],
   "source": [
    "from sklearn.metrics import confusion_matrix\n",
    "import itertools\n",
    "import matplotlib.pyplot as plt"
   ]
  },
  {
   "cell_type": "code",
   "execution_count": 19,
   "id": "21921b35",
   "metadata": {},
   "outputs": [],
   "source": [
    "cm = confusion_matrix(y_true=test_labels, y_pred=rounded_predictions)"
   ]
  },
  {
   "cell_type": "code",
   "execution_count": 20,
   "id": "bdec57dc",
   "metadata": {},
   "outputs": [],
   "source": [
    "def plot_confusion_matrix(cm, classes,\n",
    "                          normalize=False,\n",
    "                          title='Confusion matrix',\n",
    "                          cmap=plt.cm.Blues):\n",
    "    \"\"\"\n",
    "    This function prints and plots the confusion matrix.\n",
    "    Normalization can be applied by setting 'normalize=True'.\n",
    "    \"\"\"\n",
    "    plt.imshow(cm, interpolation='nearest', cmap=cmap)\n",
    "    plt.title(title)\n",
    "    plt.colorbar()\n",
    "    tick_marks = np.arange(len(classes))\n",
    "    plt.xticks(tick_marks, classes, rotation=45)\n",
    "    plt.yticks(tick_marks, classes)\n",
    "    \n",
    "    if normalize:\n",
    "        cm = cm.astype('float') /cm.sum(axis=1)[:, np.newaxis]\n",
    "        print(\"Normalized confusion matrix\")\n",
    "    else:\n",
    "        print(\"Confusion matrix without normalization\")\n",
    "        \n",
    "    print(cm)\n",
    "    \n",
    "    thresh = cm.max()/2.\n",
    "    for i, j in itertools.product(range(cm.shape[0]), range(cm.shape[1])):\n",
    "        plt.text(j, i, cm[i,j],\n",
    "                 horizontalalignment='center',\n",
    "                 color='white' if cm[i, j] > thresh else 'black')\n",
    "        \n",
    "    plt.tight_layout()\n",
    "    plt.ylabel('True label')\n",
    "    plt.xlabel('Predicted label')"
   ]
  },
  {
   "cell_type": "code",
   "execution_count": 21,
   "id": "96db7c98",
   "metadata": {},
   "outputs": [],
   "source": [
    "cm_plot_labels = ['no_side_effects', 'had_side_effects']"
   ]
  },
  {
   "cell_type": "code",
   "execution_count": 22,
   "id": "0824ae69",
   "metadata": {},
   "outputs": [
    {
     "name": "stdout",
     "output_type": "stream",
     "text": [
      "Confusion matrix without normalization\n",
      "[[192  18]\n",
      " [  9 201]]\n"
     ]
    },
    {
     "data": {
      "image/png": "[encoded data removed]",
      "text/plain": [
       "<Figure size 432x288 with 2 Axes>"
      ]
     },
     "metadata": {
      "needs_background": "light"
     },
     "output_type": "display_data"
    }
   ],
   "source": [
    "plot_confusion_matrix(cm=cm, classes=cm_plot_labels, title='Confusion Matrix')"
   ]
  },
  {
   "cell_type": "code",
   "execution_count": null,
   "id": "13169cc6",
   "metadata": {},
   "outputs": [],
   "source": []
  }
 ],
 "metadata": {
  "kernelspec": {
   "display_name": "Python 3",
   "language": "python",
   "name": "python3"
  },
  "language_info": {
   "codemirror_mode": {
    "name": "ipython",
    "version": 3
   },
   "file_extension": ".py",
   "mimetype": "text/x-python",
   "name": "python",
   "nbconvert_exporter": "python",
   "pygments_lexer": "ipython3",
   "version": "3.6.13"
  }
 },
 "nbformat": 4,
 "nbformat_minor": 5
}
