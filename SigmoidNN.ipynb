{
 "cells": [
  {
   "cell_type": "code",
   "execution_count": 1,
   "id": "30553107",
   "metadata": {},
   "outputs": [],
   "source": [
    "from numpy import exp, array, random, dot"
   ]
  },
  {
   "cell_type": "code",
   "execution_count": 2,
   "id": "743a6f8f",
   "metadata": {},
   "outputs": [],
   "source": [
    "class NeuralNetwork():\n",
    "    def __init__(self):\n",
    "        # Seed the random number generator, so it generates the same numbers every time the program runs.\n",
    "        random.seed(2)\n",
    "        \n",
    "        # We model a single neuron, with 3 input connections and 1 output connection.\n",
    "        # We assign random weights to a 3 X 1 matrix, with values in the range -1 to 1 and mean 0.\n",
    "        self.synaptic_weights = 2 * random.random((3, 1)) - 1\n",
    "        \n",
    "    # The Sigmoid function, which describes an S shaped curve.\n",
    "    # We pass the weighted sum of the inputs through this function to normalise them between 0 and 1.\n",
    "    def __sigmoid(self, x):\n",
    "        return 1 / (1 + exp(-x))\n",
    "    \n",
    "    # The derivative of the Sigmoid function.\n",
    "    # This is the gradient of the Sigmoid curve.\n",
    "    # It indicates how confident we are about the existing weight.\n",
    "    def __sigmoid_derivative(self, x):\n",
    "        return x * (1 - x)\n",
    "    \n",
    "    # We train the neural network through a process of trial and error. Adjusting the synaptic weights each time.\n",
    "    def train(self, training_set_inputs, training_set_outputs, number_of_training_iterations):\n",
    "        for iteration in range(number_of_training_iterations):\n",
    "            #Pass the training set through our neural network (a single neuron).\n",
    "            output = self.think(training_set_inputs)\n",
    "            \n",
    "            # Calculate the error (The difference between the desired output and the predicted output).\n",
    "            error = training_set_outputs - output\n",
    "            \n",
    "            # Multiply the error by the input and again by the gradient of the Sigmoid curve.\n",
    "            # This means less confident weights are adjusted more.\n",
    "            # This means inputs, which are zero, do not cause changes to the weights.\n",
    "            adjustment = dot(training_set_inputs.T, error * self.__sigmoid_derivative(output))\n",
    "            \n",
    "            # Adjust the weights.\n",
    "            self.synaptic_weights += adjustment\n",
    "            \n",
    "    # The neural network thinks.\n",
    "    def think(self, inputs):\n",
    "        # Pass inputs through our neural network (our single neuron)\n",
    "        return self.__sigmoid(dot(inputs, self.synaptic_weights))\n",
    "        "
   ]
  },
  {
   "cell_type": "code",
   "execution_count": 3,
   "id": "a053d586",
   "metadata": {},
   "outputs": [
    {
     "name": "stdout",
     "output_type": "stream",
     "text": [
      "Random starting synaptic weights: \n",
      "[[-0.1280102 ]\n",
      " [-0.94814754]\n",
      " [ 0.09932496]]\n"
     ]
    }
   ],
   "source": [
    "if __name__ == \"__main__\":\n",
    "    \n",
    "    # Initialise a single neuron neural network\n",
    "    neural_network = NeuralNetwork()\n",
    "    \n",
    "    print (\"Random starting synaptic weights: \")\n",
    "    print (neural_network.synaptic_weights)\n",
    "    \n",
    "    # The training set. We have 4 examples, each consisting of 3 input values and 1 output valie.\n",
    "    training_set_inputs = array([[0, 0, 1], [1, 1, 1], [1, 0, 1], [0, 1, 1]])\n",
    "    training_set_outputs = array([[0, 1, 1, 0]]).T"
   ]
  },
  {
   "cell_type": "code",
   "execution_count": 4,
   "id": "58ac3150",
   "metadata": {
    "scrolled": true
   },
   "outputs": [
    {
     "name": "stdout",
     "output_type": "stream",
     "text": [
      "New synaptic weights after training: \n",
      "[[ 9.67282529]\n",
      " [-0.20892653]\n",
      " [-4.62890667]]\n",
      "Considering new situation [1, 0, 0]: \n",
      "[0.99993703]\n"
     ]
    }
   ],
   "source": [
    "# Train the neural network using a training set.\n",
    "# Do it 10,000 times and make small adjustments each time.\n",
    "neural_network.train(training_set_inputs, training_set_outputs, 10000)\n",
    "\n",
    "print (\"New synaptic weights after training: \")\n",
    "print (neural_network.synaptic_weights)\n",
    "\n",
    "# Test the neural network with a new situation.\n",
    "print (\"Considering new situation [1, 0, 0]: \")\n",
    "print (neural_network.think(array([1, 0, 0])))"
   ]
  }
 ],
 "metadata": {
  "kernelspec": {
   "display_name": "Python 3",
   "language": "python",
   "name": "python3"
  },
  "language_info": {
   "codemirror_mode": {
    "name": "ipython",
    "version": 3
   },
   "file_extension": ".py",
   "mimetype": "text/x-python",
   "name": "python",
   "nbconvert_exporter": "python",
   "pygments_lexer": "ipython3",
   "version": "3.8.10"
  }
 },
 "nbformat": 4,
 "nbformat_minor": 5
}
