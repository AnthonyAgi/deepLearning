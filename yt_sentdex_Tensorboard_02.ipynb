{
 "cells": [
  {
   "cell_type": "markdown",
   "id": "23c70c69",
   "metadata": {},
   "source": [
    "# Optimizing with TensorBoard - Deep Learning w/ Python, TensorFlow & Keras p.5\n",
    "\n",
    "https://www.youtube.com/watch?v=lV09_8432VA&list=PLQVvvaa0QuDfhTox0AjmQ6tvTgMBZBEXN&index=5\n",
    "\n",
    "by sentdex"
   ]
  },
  {
   "cell_type": "code",
   "execution_count": null,
   "id": "8a891e3f",
   "metadata": {},
   "outputs": [],
   "source": []
  }
 ],
 "metadata": {
  "kernelspec": {
   "display_name": "Python 3",
   "language": "python",
   "name": "python3"
  },
  "language_info": {
   "codemirror_mode": {
    "name": "ipython",
    "version": 3
   },
   "file_extension": ".py",
   "mimetype": "text/x-python",
   "name": "python",
   "nbconvert_exporter": "python",
   "pygments_lexer": "ipython3",
   "version": "3.6.13"
  }
 },
 "nbformat": 4,
 "nbformat_minor": 5
}
