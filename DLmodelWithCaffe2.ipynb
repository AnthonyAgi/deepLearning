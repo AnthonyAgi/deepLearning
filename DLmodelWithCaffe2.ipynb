{
 "cells": [
  {
   "cell_type": "markdown",
   "id": "4aeb41db",
   "metadata": {},
   "source": [
    "# DL model with MNIST Lesson 4 page 118 - 128\n",
    "\n",
    "also used https://caffe2.ai/docs/tutorial-MNIST.html since there was some duplication in the pdf's code"
   ]
  },
  {
   "cell_type": "code",
   "execution_count": 1,
   "id": "816057c8",
   "metadata": {},
   "outputs": [
    {
     "ename": "ModuleNotFoundError",
     "evalue": "No module named 'caffe2'",
     "output_type": "error",
     "traceback": [
      "\u001b[1;31m---------------------------------------------------------------------------\u001b[0m",
      "\u001b[1;31mModuleNotFoundError\u001b[0m                       Traceback (most recent call last)",
      "\u001b[1;32m<ipython-input-1-7ccd80fb4dd5>\u001b[0m in \u001b[0;36m<module>\u001b[1;34m\u001b[0m\n\u001b[0;32m      4\u001b[0m \u001b[1;32mimport\u001b[0m \u001b[0mos\u001b[0m\u001b[1;33m\u001b[0m\u001b[1;33m\u001b[0m\u001b[0m\n\u001b[0;32m      5\u001b[0m \u001b[1;32mimport\u001b[0m \u001b[0mshutil\u001b[0m\u001b[1;33m\u001b[0m\u001b[1;33m\u001b[0m\u001b[0m\n\u001b[1;32m----> 6\u001b[1;33m \u001b[1;32mimport\u001b[0m \u001b[0mcaffe2\u001b[0m\u001b[1;33m.\u001b[0m\u001b[0mpython\u001b[0m\u001b[1;33m.\u001b[0m\u001b[0mpredictor\u001b[0m\u001b[1;33m.\u001b[0m\u001b[0mpredictor_exporter\u001b[0m \u001b[1;32mas\u001b[0m \u001b[0mpe\u001b[0m\u001b[1;33m\u001b[0m\u001b[1;33m\u001b[0m\u001b[0m\n\u001b[0m\u001b[0;32m      7\u001b[0m \u001b[1;33m\u001b[0m\u001b[0m\n\u001b[0;32m      8\u001b[0m from caffe2.python import (\n",
      "\u001b[1;31mModuleNotFoundError\u001b[0m: No module named 'caffe2'"
     ]
    }
   ],
   "source": [
    "%matplotlib inline\n",
    "from matplotlib import pyplot\n",
    "import numpy as np\n",
    "import os\n",
    "import shutil\n",
    "import caffe2.python.predictor.predictor_exporter as pe\n",
    "\n",
    "from caffe2.python import (\n",
    "    brew,\n",
    "    core,\n",
    "    model_helper,\n",
    "    net_drawer,\n",
    "    optimizer,\n",
    "    visualize,\n",
    "    workspace)\n",
    "\n",
    "core.GlobalInit(['caffe2', '--caffe2_log_level=0'])\n",
    "print (\"Necessities imported!\")\n",
    "\n",
    "USE_LENET_MODEL = True"
   ]
  },
  {
   "cell_type": "code",
   "execution_count": null,
   "id": "6f107b1d",
   "metadata": {},
   "outputs": [],
   "source": []
  },
  {
   "cell_type": "code",
   "execution_count": null,
   "id": "6aae58d7",
   "metadata": {},
   "outputs": [],
   "source": [
    "from keras.datasets.mnist import load_data\n",
    "\n",
    "(trainX, trainy), (testX, testy) = load_data()\n",
    "\n",
    "print ('Train', trainX.shape, trainy.shape)\n",
    "print ('Test', testX.shape, testy.shape)"
   ]
  },
  {
   "cell_type": "code",
   "execution_count": null,
   "id": "29792048",
   "metadata": {},
   "outputs": [],
   "source": [
    "'''\n",
    "# Commented out some of  the following sections since I manually downloaded and unzipped the files\n",
    "# due to StringIO issues with python3. Following the rest of the processes/commenting them out as needed\n",
    "\n",
    "def DownloadResource(url, path):\n",
    "    # Downloads resources from s3 by url and unzips them to the provided path\n",
    "    \n",
    "    import requests, zipfile, io\n",
    "    from io import BytesIO           # changed for python3 \n",
    "    print (\"Downloading... {} to {}\".format(url, path))\n",
    "    r = requests.get(url, stream=True)\n",
    "    z = zipfile.ZipFile(np.genfromtxt(io.BytesIO(r.encode())))\n",
    "    # z = zipfile.ZipFile(io.StringIO(r.content))\n",
    "    z.extractall(path)\n",
    "    print(\"Completed download and extraction.\")\n",
    "'''"
   ]
  },
  {
   "cell_type": "code",
   "execution_count": null,
   "id": "7cb1f010",
   "metadata": {},
   "outputs": [],
   "source": [
    "current_folder = os.path.join(os.path.expanduser('~'),\n",
    "                              'Desktop\\Education\\LiveClasses\\DeepLearningKandTF\\caffe2_notebooks')\n",
    "data_folder = os.path.join(current_folder, 'tutorial_data', 'mnist')\n",
    "root_folder = os.path.join(current_folder, 'tutorial_files', 'tutorial_mnist')\n",
    "db_missing = False"
   ]
  },
  {
   "cell_type": "code",
   "execution_count": null,
   "id": "c3ee7256",
   "metadata": {},
   "outputs": [],
   "source": [
    "if not os.path.exists(data_folder):\n",
    "    os.makedirs(data_folder)   \n",
    "    print(\"Your data folder was not found!! This was generated: {}\".format(data_folder))"
   ]
  },
  {
   "cell_type": "code",
   "execution_count": null,
   "id": "598556bb",
   "metadata": {},
   "outputs": [],
   "source": [
    "if os.path.exists(os.path.join(data_folder, \"mnist-train-nchw-lmdb\")):\n",
    "    print (\"lmdb train db found\")\n",
    "else:\n",
    "    db_missing = True"
   ]
  },
  {
   "cell_type": "code",
   "execution_count": null,
   "id": "4aeba901",
   "metadata": {},
   "outputs": [],
   "source": [
    "if os.path.exists(os.path.join(data_folder,\"mnist-test-nchw-lmdb\")):\n",
    "    print(\"lmdb test db found!\")\n",
    "else:\n",
    "    db_missing = True"
   ]
  },
  {
   "cell_type": "code",
   "execution_count": null,
   "id": "9f0c8d41",
   "metadata": {},
   "outputs": [],
   "source": [
    "'''\n",
    "# commented out as stated above\n",
    "\n",
    "# attempt the download of the db if either was missing\n",
    "if db_missing:\n",
    "    print(\"one or both of the MNIST lmbd dbs not found!!\")\n",
    "    db_url = \"http://download.caffe2.ai/databases/mnist-lmdb.zip\"\n",
    "    try:\n",
    "        DownloadResource(db_url, data_folder)\n",
    "    except Exception as ex:\n",
    "        print(\"Failed to download dataset. Please download it manually from {}\".format(db_url))\n",
    "        print(\"Unzip it and place the two database folders here: {}\".format(data_folder))\n",
    "        raise ex\n",
    "'''"
   ]
  },
  {
   "cell_type": "code",
   "execution_count": null,
   "id": "f1b9482e",
   "metadata": {},
   "outputs": [],
   "source": [
    "# clean up the statistics from any of the old runs\n",
    "\n",
    "if os.path.exists(root_folder):\n",
    "    print (\"Looks like you ran this before, so we need to cleanup those old files...\")\n",
    "    shutil.rmtree(root_folder)\n",
    "    \n",
    "os.makedirs(root_folder)\n",
    "workspace.ResetWorkspace(root_folder)\n",
    "\n",
    "print(\"training data folder:\" + data_folder)\n",
    "print(\"workspace root folder:\" + root_folder)"
   ]
  },
  {
   "cell_type": "code",
   "execution_count": null,
   "id": "0450583d",
   "metadata": {},
   "outputs": [],
   "source": [
    "def AddInput(model, batch_size, db, db_type):\n",
    "    \n",
    "    # load the data\n",
    "    data_uint8, label = model.TensorProtosDBInput(\n",
    "        [], [\"data_uint8\", \"label\"], batch_size=batch_size,\n",
    "        db=db, db_type=db_type)\n",
    "    \n",
    "    # cast the data to float\n",
    "    data = model.Cast(data_uint8, \"data\", to=core.DataType.FLOAT)\n",
    "    \n",
    "    # scale data from [0,255] down to [0,1]\n",
    "    data = model.Scale(data, data, scale=float(1./256))\n",
    "    \n",
    "    # don't need the gradient for the backward pass\n",
    "    data = model.StopGradient(data, data)\n",
    "    return data, label"
   ]
  },
  {
   "cell_type": "code",
   "execution_count": null,
   "id": "bed756c3",
   "metadata": {},
   "outputs": [],
   "source": [
    "def AddLeNetModel(model, data):\n",
    "    '''\n",
    "    This part is the standard LeNet model: from data to the softmax prediction.\n",
    "\n",
    "    For each convolutional layer we specify dim_in - number of input channels\n",
    "    and dim_out - number or output channels. Also each Conv and MaxPool layer changes the\n",
    "    image size. For example, kernel of size 5 reduces each side of an image by 4.\n",
    "\n",
    "    While when we have kernel and stride sizes equal 2 in a MaxPool layer, it divides\n",
    "    each side in half.\n",
    "    '''\n",
    "    \n",
    "    # Image size: 28 x 28 -> 24 x 24\n",
    "    conv1 = brew.conv(model, data, 'conv1', dim_in=1, dim_out=20, kernel=5)\n",
    "    \n",
    "    # Image size: 24 x 24 -> 12 x 12\n",
    "    pool1 = brew.max_pool(model, conv1, 'pool1', kernel=2, stride=2)\n",
    "    \n",
    "    # Image size: 12 x 12 -> 8 x 8\n",
    "    conv2 = brew.conv(model, pool1, 'conv2', dim_in=20, dim_out=100, kernel=5)\n",
    "    \n",
    "    # Image size: 8 x 8 -> 4 x 4\n",
    "    pool2 = brew.max_pool(model, conv2, 'pool2', kernel=2, stride=2)\n",
    "    \n",
    "    # 50 * 4 * 4 stands for dim_out from previous layer multiplied by the image size\n",
    "    fc3 = brew.fc(model, pool2, 'fc3', dim_in=100 * 4 * 4, dim_out=500)\n",
    "\n",
    "    #fc3 = brew.relu(model, fc3, fc3)\n",
    "    relu = brew.relu(model, fc3, fc3)\n",
    "    pred = brew.fc(model, relu, 'pred', 500, 10)\n",
    "    softmax = brew.softmax(model, pred, 'softmax')\n",
    "    \n",
    "    return softmax"
   ]
  },
  {
   "cell_type": "code",
   "execution_count": null,
   "id": "b7fde760",
   "metadata": {},
   "outputs": [],
   "source": [
    "def AddAccuracy(model, softmax, label):\n",
    "    # Adds an accuracy op to the model\n",
    "    accuracy = brew.accuracy(model, [softmax, label], \"accuracy\")\n",
    "    \n",
    "    return accuracy"
   ]
  },
  {
   "cell_type": "code",
   "execution_count": null,
   "id": "50d1b9dc",
   "metadata": {},
   "outputs": [],
   "source": [
    "def AddTrainingOperators(model, softmax, label):\n",
    "    # Adds training operators to the model.\n",
    "    \n",
    "    xent = model.LabelCrossEntropy([softmax, label], 'xent')\n",
    "    \n",
    "    # compute the expected loss\n",
    "    loss = model.AveragedLoss(xent, \"loss\")\n",
    "    \n",
    "    # track the accuracy of the model\n",
    "    AddAccuracy(model, softmax, label)\n",
    "    \n",
    "    # use the average loss we just computed to add gradient operators to the model\n",
    "    model.AddGradientOperators([loss])\n",
    "    \n",
    "    # do a simple stochastic gradient descent\n",
    "    ITER = brew.iter(model, \"iter\")\n",
    "    \n",
    "    # set the learning rate schedule\n",
    "    LR = model.LearningRate(\n",
    "        ITER, \"LR\", base_lr=-0.1, policy=\"step\", stepsize=1, gamma=0.999 )\n",
    "    \n",
    "    # ONE is a constant value that is used in the gradient update. We only need\n",
    "    # to create it once, so it is explicitly placed in param_init_net.\n",
    "    ONE = model.param_init_net.ConstantFill([], \"ONE\", shape=[1], value=1.0)\n",
    "    \n",
    "    # Now, for each parameter, we do the gradient updates.\n",
    "    for param in model.params:\n",
    "        \n",
    "        # Note how we get the gradient of each parameter - ModelHelper keeps\n",
    "        # track of that.\n",
    "        param_grad = model.param_to_grad[param]\n",
    "        \n",
    "        # The update is a simple weighted sum: param = param + param_grad * LR\n",
    "        model.WeightedSum([param, ONE, param_grad, LR], param)\n",
    "        \n",
    "    '''\n",
    "    We will need to checkpoint the parameters of the model periodically. This is \n",
    "    achieved via the Checkpoint operator. It also takes in a parameter “every” \n",
    "    so that we don’t checkpoint way too often. In this case, we will say let’s \n",
    "    checkpoint every 20 iterations, which should probably be fine.\n",
    "    # not entered in code so I commented this out\n",
    "    \n",
    "    model.Checkpoint([ITER] + model.params, [],\n",
    "               db=\"mnist_lenet_checkpoint_%05d.lmdb\",\n",
    "               db_type=\"lmdb\", every=20)\n",
    "               \n",
    "               \n",
    "    # The below is the pdf version of setting up the model after the average loss \n",
    "    # was added\n",
    "    optimizer.build_sgd(model, base_learning_rate=0.1, \n",
    "                        policy='step', stepsize=1, gamma=0.999)\n",
    "    '''"
   ]
  },
  {
   "cell_type": "code",
   "execution_count": null,
   "id": "2993a921",
   "metadata": {},
   "outputs": [],
   "source": [
    "def AddBookkeepingOperators(model):\n",
    "    \"\"\"This adds a few bookkeeping operators that we can inspect later.\n",
    "\n",
    "    These operators do not affect the training procedure: they only collect\n",
    "    statistics and prints them to file or to logs.\n",
    "    \"\"\"\n",
    "    \n",
    "    # Print basically prints out the content of the blob. to_file=1 routes the\n",
    "    # printed output to a file. The file is going to be stored under\n",
    "    #     root_folder/[blob name]\n",
    "    model.Print('accuracy', [], to_file=1)\n",
    "    model.Print('loss', [], to_file=1)\n",
    "    \n",
    "    # Summarizes the parameters. Different from Print, Summarize gives some\n",
    "    # statistics of the parameter, such as mean, std, min and max.\n",
    "    for param in model.params:\n",
    "        model.Summarize(param, [], to_file=1)\n",
    "        model.Summarize(model.param_to_grad[param], [], to_file=1)\n",
    "        \n",
    "    # Now, if we really want to be verbose, we can summarize EVERY blob\n",
    "    # that the model produces; it is probably not a good idea, because that\n",
    "    # is going to take time - summarization do not come for free. For this\n",
    "    # demo, we will only show how to summarize the parameters and their\n",
    "    # gradients."
   ]
  },
  {
   "cell_type": "code",
   "execution_count": null,
   "id": "2be7b57a",
   "metadata": {},
   "outputs": [],
   "source": [
    "# This part is in the pdf but not the site. I'm following the site so commented the below out\n",
    "\n",
    "'''\n",
    "def AddMLPModel(model, data):\n",
    "    size = 28 * 28 * 1\n",
    "    sizes = [size, size * 2, size * 2, 10]\n",
    "    layer = data\n",
    "    for i in range(len(sizes) - 1):\n",
    "        layer = brew.fc(model, layer, 'dense_{}'.format(i), dim_in=sizes[i],\n",
    "                        dim_out=sizes[i + 1])\n",
    "        layer = brew.relu(model, layer, 'relu_{}'.format(i))\n",
    "        softmax = brew.softmax(model,layer, 'softmax')\n",
    "        \n",
    "        return softmax\n",
    "'''"
   ]
  },
  {
   "cell_type": "code",
   "execution_count": null,
   "id": "80991f21",
   "metadata": {},
   "outputs": [],
   "source": [
    "# Another part from the pdf. Seems like the above section was meant to allow for easy\n",
    "# switching between 2 different models\n",
    "\n",
    "'''\n",
    "def AddModel(model, data):\n",
    "    if USE_LENET_MODEL:\n",
    "        return AddLeNetModel(model, data)\n",
    "    else:\n",
    "        return AddMLPModel(model, data)\n",
    "'''"
   ]
  },
  {
   "cell_type": "code",
   "execution_count": null,
   "id": "003f96bd",
   "metadata": {},
   "outputs": [],
   "source": [
    "arg_scope = {\"order\": \"NCHW\"}\n",
    "train_model = model_helper.ModelHelper(name=\"mnist_train\", arg_scope=arg_scope)\n",
    "data, label = AddInput(train_model, batch_size=64,\n",
    "                       db=os.path.join(data_folder, 'mnist-train-nchw-lmdb'),\n",
    "                       db_type='lmdb')\n",
    "softmax = AddLeNetModel(train_model, data)\n",
    "AddTrainingOperators(train_model, softmax, label)\n",
    "AddBookkeepingOperators(train_model)"
   ]
  },
  {
   "cell_type": "code",
   "execution_count": null,
   "id": "8c6d3b81",
   "metadata": {},
   "outputs": [],
   "source": [
    "# Testing model. We will set the batch size to 100, so that the testing\n",
    "# pass is 100 iterations (10,000 images in total).\n",
    "# For the testing model, we need the data input part, the main LeNetModel\n",
    "# part, and an accuracy part. Note that init_params is set False because\n",
    "# we will be using the parameters obtained from the train model.\n",
    "test_model = model_helper.ModelHelper(name=\"mnist_test\", \n",
    "                                      arg_scope=arg_scope, init_params=False)\n",
    "data, label = AddInput(test_model, batch_size=100,\n",
    "                       db=os.path.join(data_folder, 'mnist-test-nchw-lmdb'),\n",
    "                       db_type='lmdb')\n",
    "softmax = AddLeNetModel(test_model, data)\n",
    "AddAccuracy(test_model, softmax, label)"
   ]
  },
  {
   "cell_type": "code",
   "execution_count": null,
   "id": "09d90995",
   "metadata": {},
   "outputs": [],
   "source": [
    "# Deployment model. We simply need the main LeNetModel part.\n",
    "deploy_model = model_helper.ModelHelper(name=\"mnist_deploy\", \n",
    "                                        arg_scope=arg_scope, init_params=False)\n",
    "AddLeNetModel(deploy_model, \"data\")\n",
    "\n",
    "# You may wonder what happens with the param_init_net part of the deploy_model.\n",
    "# No, we will not use them, since during deployment time we will not randomly\n",
    "# initialize the parameters, but load the parameters from the db."
   ]
  },
  {
   "cell_type": "code",
   "execution_count": null,
   "id": "2b7e3b32",
   "metadata": {},
   "outputs": [],
   "source": [
    "# from the site. for visualization. doesn't work due to a problem with pydot or something. commented out\n",
    "'''\n",
    "from IPython import display\n",
    "graph = net_drawer.GetPydotGraph(train_model.net.Proto().op, \"mnist\", rankdir=\"LR\")\n",
    "display.Image(graph.create_png(), width=800)\n",
    "'''"
   ]
  },
  {
   "cell_type": "code",
   "execution_count": null,
   "id": "ed798bb7",
   "metadata": {},
   "outputs": [],
   "source": [
    "'''\n",
    "same as above\n",
    "\n",
    "graph = net_drawer.GetPydotGraphMinimal(train_model.net.Proto().op, \"mnist\", \n",
    "                                        rankdir=\"LR\", minimal_dependency=True)\n",
    "display.Image(graph.create_png(), width=800)\n",
    "'''"
   ]
  },
  {
   "cell_type": "code",
   "execution_count": null,
   "id": "04e05d87",
   "metadata": {},
   "outputs": [],
   "source": [
    "print(str(train_model.param_init_net.Proto())[:400] + '\\n...')"
   ]
  },
  {
   "cell_type": "code",
   "execution_count": null,
   "id": "3a9dd1f8",
   "metadata": {},
   "outputs": [],
   "source": [
    "with open(os.path.join(root_folder, \"train_net.pbtxt\"), 'w') as fid:\n",
    "    fid.write(str(train_model.net.Proto()))\n",
    "with open(os.path.join(root_folder, \"train_init_net.pbtxt\"), 'w') as fid:\n",
    "    fid.write(str(train_model.param_init_net.Proto()))\n",
    "with open(os.path.join(root_folder, \"test_net.pbtxt\"), 'w') as fid:\n",
    "    fid.write(str(test_model.net.Proto()))\n",
    "with open(os.path.join(root_folder, \"test_init_net.pbtxt\"), 'w') as fid:\n",
    "    fid.write(str(test_model.param_init_net.Proto()))\n",
    "with open(os.path.join(root_folder, \"deploy_net.pbtxt\"), 'w') as fid:\n",
    "    fid.write(str(deploy_model.net.Proto()))\n",
    "print(\"Protocol buffers files have been created in your root folder: \" + root_folder)"
   ]
  },
  {
   "cell_type": "code",
   "execution_count": null,
   "id": "c914cf88",
   "metadata": {},
   "outputs": [],
   "source": [
    "# The parameter initialization network only needs to be run once.\n",
    "workspace.RunNetOnce(train_model.param_init_net)\n",
    "\n",
    "# creating the network\n",
    "workspace.CreateNet(train_model.net, overwrite=True)\n",
    "\n",
    "# set the number of iterations and track the accuracy & loss\n",
    "total_iters = 200\n",
    "accuracy = np.zeros(total_iters)\n",
    "loss = np.zeros(total_iters)\n",
    "\n",
    "# Now, we will manually run the network for 200 iterations.\n",
    "for i in range(total_iters):\n",
    "    workspace.RunNet(train_model.net)\n",
    "    accuracy[i] = workspace.FetchBlob('accuracy')\n",
    "    loss[i] = workspace.FetchBlob('loss')\n",
    "    #this if statement is from pdf\n",
    "    if i % 25 == 0:\n",
    "        print(\"Iter: {}, Loss: {}, Accuracy: {}\".format(i, loss[i], accuracy[i]))\n",
    "    \n",
    "# After the execution is done, let's plot the values.\n",
    "pyplot.plot(loss, 'b')\n",
    "pyplot.plot(accuracy, 'r')\n",
    "pyplot.title(\"Summary of Training Run\")\n",
    "pyplot.xlabel(\"Iteration\")\n",
    "pyplot.legend(('Loss', 'Accuracy'), loc='upper right')"
   ]
  },
  {
   "cell_type": "code",
   "execution_count": null,
   "id": "738367e4",
   "metadata": {},
   "outputs": [],
   "source": [
    "# Let's look at some of the data.\n",
    "pyplot.figure()\n",
    "data = workspace.FetchBlob('data')\n",
    "_ = visualize.NCHW.ShowMultiple(data)\n",
    "pyplot.figure()\n",
    "softmax = workspace.FetchBlob('softmax')\n",
    "_ = pyplot.plot(softmax[0], 'ro')\n",
    "pyplot.title('Prediction for the first image')"
   ]
  },
  {
   "cell_type": "code",
   "execution_count": null,
   "id": "3620a171",
   "metadata": {},
   "outputs": [],
   "source": [
    "# Convolutions for this mini-batch\n",
    "pyplot.figure()\n",
    "conv = workspace.FetchBlob('conv1')\n",
    "shape = list(conv.shape)\n",
    "shape[1] = 1\n",
    "# We can look into any channel. This of it as a feature model learned\n",
    "conv = conv[:,15,:,:].reshape(shape)\n",
    "\n",
    "_ = visualize.NCHW.ShowMultiple(conv)"
   ]
  },
  {
   "cell_type": "code",
   "execution_count": null,
   "id": "67f1dd7e",
   "metadata": {},
   "outputs": [],
   "source": [
    "# run a test pass on the test net\n",
    "workspace.RunNetOnce(test_model.param_init_net)\n",
    "workspace.CreateNet(test_model.net, overwrite=True)\n",
    "test_accuracy = np.zeros(100)\n",
    "for i in range(100):\n",
    "    workspace.RunNet(test_model.net.Proto().name)\n",
    "    test_accuracy[i] = workspace.FetchBlob('accuracy')\n",
    "# After the execution is done, let's plot the values.\n",
    "pyplot.plot(test_accuracy, 'r')\n",
    "pyplot.title('Acuracy over test batches.')\n",
    "print('test_accuracy: %f' % test_accuracy.mean())"
   ]
  },
  {
   "cell_type": "code",
   "execution_count": null,
   "id": "18b68f62",
   "metadata": {},
   "outputs": [],
   "source": [
    "# construct the model to be exported\n",
    "# the inputs/outputs of the model are manually specified.\n",
    "pe_meta = pe.PredictorExportMeta(\n",
    "    predict_net=deploy_model.net.Proto(),\n",
    "    parameters=[str(b) for b in deploy_model.params],\n",
    "    inputs=[\"data\"],\n",
    "    outputs=[\"softmax\"],\n",
    ")\n",
    "\n",
    "# save the model to a file. Use minidb as the file format\n",
    "pe.save_to_db(\"minidb\", os.path.join(root_folder, \"mnist_model.minidb\"), pe_meta)\n",
    "print(\"The deploy model is saved to: \" + root_folder + \"/mnist_model.minidb\")\n"
   ]
  },
  {
   "cell_type": "code",
   "execution_count": null,
   "id": "8a19ecb1",
   "metadata": {},
   "outputs": [],
   "source": [
    "# we retrieve the last input data out and use it in our prediction test before we scratch the workspace\n",
    "blob = workspace.FetchBlob(\"data\")\n",
    "pyplot.figure()\n",
    "_ = visualize.NCHW.ShowMultiple(blob)\n",
    "\n",
    "# reset the workspace, to make sure the model is actually loaded\n",
    "workspace.ResetWorkspace(root_folder)\n",
    "\n",
    "# verify that all blobs are destroyed.\n",
    "print(\"The blobs in the workspace after reset: {}\".format(workspace.Blobs()))\n",
    "\n",
    "# load the predict net\n",
    "predict_net = pe.prepare_prediction_net(os.path.join(root_folder, \"mnist_model.minidb\"), \"minidb\")\n",
    "\n",
    "# verify that blobs are loaded back\n",
    "print(\"The blobs in the workspace after loading the model: {}\".format(workspace.Blobs()))\n",
    "\n",
    "# feed the previously saved data to the loaded model\n",
    "workspace.FeedBlob(\"data\", blob)\n",
    "\n",
    "# predict\n",
    "workspace.RunNetOnce(predict_net)\n",
    "softmax = workspace.FetchBlob(\"softmax\")\n",
    "\n",
    "# the first letter should be predicted correctly\n",
    "pyplot.figure()\n",
    "_ = pyplot.plot(softmax[0], 'ro')\n",
    "pyplot.title('Prediction for the first image')"
   ]
  }
 ],
 "metadata": {
  "kernelspec": {
   "display_name": "Python 3",
   "language": "python",
   "name": "python3"
  },
  "language_info": {
   "codemirror_mode": {
    "name": "ipython",
    "version": 3
   },
   "file_extension": ".py",
   "mimetype": "text/x-python",
   "name": "python",
   "nbconvert_exporter": "python",
   "pygments_lexer": "ipython3",
   "version": "3.6.13"
  }
 },
 "nbformat": 4,
 "nbformat_minor": 5
}
